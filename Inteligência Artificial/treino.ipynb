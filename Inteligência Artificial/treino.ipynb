{
 "cells": [
  {
   "cell_type": "markdown",
   "metadata": {
    "colab_type": "text",
    "id": "wHBQcQzjD6HJ"
   },
   "source": [
    "**Treinamento da inteligencia artificial**"
   ]
  },
  {
   "cell_type": "code",
   "execution_count": null,
   "metadata": {
    "colab": {},
    "colab_type": "code",
    "id": "bwp6NIrsZZFP",
    "scrolled": true
   },
   "outputs": [],
   "source": [
    "# Checagem para ver se a GPU está sendo detectada\n",
    "!nvidia-smi"
   ]
  },
  {
   "cell_type": "code",
   "execution_count": null,
   "metadata": {
    "colab": {},
    "colab_type": "code",
    "id": "9e9ZW3sqMEPO"
   },
   "outputs": [],
   "source": [
    "#Mostra os arquivos da pasta local\n",
    "!ls"
   ]
  },
  {
   "cell_type": "markdown",
   "metadata": {
    "colab_type": "text",
    "id": "t7utW4in4azV"
   },
   "source": [
    "**1) Baixa o Darknet**\n",
    "\n"
   ]
  },
  {
   "cell_type": "code",
   "execution_count": null,
   "metadata": {
    "colab": {},
    "colab_type": "code",
    "id": "e03U7Zi-qMr2"
   },
   "outputs": [],
   "source": [
    "#baixa na pasta local o Darknet\n",
    "!git clone https://github.com/AlexeyAB/darknet"
   ]
  },
  {
   "cell_type": "markdown",
   "metadata": {
    "colab_type": "text",
    "id": "7gDOF3mU-TAn"
   },
   "source": [
    "**2) Compila o Darknet para habilitar o treino com GPU**\n"
   ]
  },
  {
   "cell_type": "code",
   "execution_count": null,
   "metadata": {
    "colab": {},
    "colab_type": "code",
    "id": "5H-Taj06Tw1c",
    "scrolled": false
   },
   "outputs": [],
   "source": [
    "# altera o makefile para utilizar opencv e GPU\n",
    "%cd darknet\n",
    "!sed -i 's/OPENCV=0/OPENCV=1/' Makefile\n",
    "!sed -i 's/GPU=0/GPU=1/' Makefile\n",
    "!sed -i 's/CUDNN=0/CUDNN=1/' Makefile\n",
    "!make"
   ]
  },
  {
   "cell_type": "markdown",
   "metadata": {
    "colab_type": "text",
    "id": "gAOLtA_qI9vF"
   },
   "source": [
    "**3) Configuração para treino do YOLOv3**"
   ]
  },
  {
   "cell_type": "code",
   "execution_count": null,
   "metadata": {
    "colab": {},
    "colab_type": "code",
    "id": "s-RpscgU853t"
   },
   "outputs": [],
   "source": [
    "!cp cfg/yolov3.cfg cfg/yolov3_training.cfg"
   ]
  },
  {
   "cell_type": "code",
   "execution_count": null,
   "metadata": {
    "colab": {},
    "colab_type": "code",
    "id": "5ZgVQRop_vwR"
   },
   "outputs": [],
   "source": [
    "!sed -i 's/batch=1/batch=64/' cfg/yolov3_training.cfg\n",
    "!sed -i 's/subdivisions=1/subdivisions=16/' cfg/yolov3_training.cfg\n",
    "!sed -i 's/max_batches = 500200/max_batches = 20000/' cfg/yolov3_training.cfg\n",
    "!sed -i '610 s@classes=80@classes=1@' cfg/yolov3_training.cfg\n",
    "!sed -i '696 s@classes=80@classes=1@' cfg/yolov3_training.cfg\n",
    "!sed -i '783 s@classes=80@classes=1@' cfg/yolov3_training.cfg\n",
    "!sed -i '603 s@filters=255@filters=18@' cfg/yolov3_training.cfg\n",
    "!sed -i '689 s@filters=255@filters=18@' cfg/yolov3_training.cfg\n",
    "!sed -i '776 s@filters=255@filters=18@' cfg/yolov3_training.cfg"
   ]
  },
  {
   "cell_type": "code",
   "execution_count": null,
   "metadata": {
    "colab": {},
    "colab_type": "code",
    "id": "nscRN-X2Mr3d"
   },
   "outputs": [],
   "source": [
    "# Cria pasta para salvar os treinos anteriores de 1.000 em 1.000, até atingir 20.0000\n",
    "!mkdir \"/home/matheus/Downloads/weights\""
   ]
  },
  {
   "cell_type": "code",
   "execution_count": null,
   "metadata": {
    "colab": {},
    "colab_type": "code",
    "id": "7AIBw_psIclz"
   },
   "outputs": [],
   "source": [
    "!echo \"Car\" > data/obj.names\n",
    "!echo -e 'classes= 1\\ntrain  = data/train.txt\\nvalid  = data/test.txt\\nnames = data/obj.names\\nbackup = /home/matheus/Downloads/weights' > data/obj.data\n",
    "!mkdir data/obj"
   ]
  },
  {
   "cell_type": "code",
   "execution_count": null,
   "metadata": {
    "colab": {},
    "colab_type": "code",
    "id": "eZlkzFMW7I_N",
    "scrolled": true
   },
   "outputs": [],
   "source": [
    "# Baixa o modelo pré treinado: weights darknet model 53 para realizar o novo treino\n",
    "!wget https://pjreddie.com/media/files/darknet53.conv.74"
   ]
  },
  {
   "cell_type": "markdown",
   "metadata": {
    "colab_type": "text",
    "id": "9RbVKJjoncW2"
   },
   "source": [
    "**4) Extrai as imagens**\n",
    "\n",
    "As imagens estão zipadas na pasta Downloads com o nome imagens.zip"
   ]
  },
  {
   "cell_type": "code",
   "execution_count": null,
   "metadata": {
    "colab": {},
    "colab_type": "code",
    "id": "jhb5nZvsQ_96",
    "scrolled": false
   },
   "outputs": [],
   "source": [
    "!unzip /home/matheus/Downloads/imagens.zip -d data/obj"
   ]
  },
  {
   "cell_type": "code",
   "execution_count": null,
   "metadata": {
    "colab": {},
    "colab_type": "code",
    "id": "DGUyXxeYX0IP"
   },
   "outputs": [],
   "source": [
    "# Realiza os ultimos ajustes no label das imagens antes de iniciar o treinamento\n",
    "import glob\n",
    "import os\n",
    "import re\n",
    "\n",
    "txt_file_paths = glob.glob(r\"data/obj/*.txt\")\n",
    "for i, file_path in enumerate(txt_file_paths):\n",
    "    # get image size\n",
    "    with open(file_path, \"r\") as f_o:\n",
    "        lines = f_o.readlines()\n",
    "\n",
    "        text_converted = []\n",
    "        for line in lines:\n",
    "            print(line)\n",
    "            numbers = re.findall(\"[0-9.]+\", line)\n",
    "            print(numbers)\n",
    "            if numbers:\n",
    "\n",
    "                # Define coordinates\n",
    "                text = \"{} {} {} {} {}\".format(0, numbers[1], numbers[2], numbers[3], numbers[4])\n",
    "                text_converted.append(text)\n",
    "                print(i, file_path)\n",
    "                print(text)\n",
    "        # Write file\n",
    "        with open(file_path, 'w') as fp:\n",
    "            for item in text_converted:\n",
    "                fp.writelines(\"%s\\n\" % item)"
   ]
  },
  {
   "cell_type": "code",
   "execution_count": null,
   "metadata": {
    "colab": {},
    "colab_type": "code",
    "id": "5I_0ht7ITMUu",
    "scrolled": false
   },
   "outputs": [],
   "source": [
    "import glob\n",
    "images_list = glob.glob(\"data/obj/*.jpg\")\n",
    "print(images_list)"
   ]
  },
  {
   "cell_type": "code",
   "execution_count": null,
   "metadata": {
    "colab": {},
    "colab_type": "code",
    "id": "EzygoAtMSnon"
   },
   "outputs": [],
   "source": [
    "#Create training.txt file\n",
    "file = open(\"data/train.txt\", \"w\") \n",
    "file.write(\"\\n\".join(images_list)) \n",
    "file.close() "
   ]
  },
  {
   "cell_type": "markdown",
   "metadata": {
    "colab_type": "text",
    "id": "CeSiuLrXoAjc"
   },
   "source": [
    "**6) Inicia o treino**"
   ]
  },
  {
   "cell_type": "code",
   "execution_count": null,
   "metadata": {
    "colab": {},
    "colab_type": "code",
    "id": "S3_g3jclUzMm",
    "scrolled": false
   },
   "outputs": [],
   "source": [
    "#comando para iniciar o treino utilizando as configurações feitas a cima\n",
    "!./darknet detector train data/obj.data cfg/yolov3_training.cfg darknet53.conv.74 -dont_show"
   ]
  }
 ],
 "metadata": {
  "accelerator": "GPU",
  "colab": {
   "collapsed_sections": [],
   "name": "Train YoloV3.ipynb",
   "provenance": [],
   "toc_visible": true
  },
  "kernelspec": {
   "display_name": "Python 3",
   "language": "python",
   "name": "python3"
  },
  "language_info": {
   "codemirror_mode": {
    "name": "ipython",
    "version": 3
   },
   "file_extension": ".py",
   "mimetype": "text/x-python",
   "name": "python",
   "nbconvert_exporter": "python",
   "pygments_lexer": "ipython3",
   "version": "3.8.3"
  }
 },
 "nbformat": 4,
 "nbformat_minor": 1
}
